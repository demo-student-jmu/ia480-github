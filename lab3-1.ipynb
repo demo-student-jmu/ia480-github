{
 "cells": [
  {
   "cell_type": "markdown",
   "id": "e3836ce0",
   "metadata": {},
   "source": [
    "# Importing the data"
   ]
  },
  {
   "cell_type": "code",
   "execution_count": 1,
   "id": "092842c5",
   "metadata": {},
   "outputs": [],
   "source": [
    "    import warnings, requests, zipfile, io\n",
    "\n",
    "    warnings.simplefilter('ignore')\n",
    "\n",
    "    import pandas as pd\n",
    "\n",
    "    from scipy.io import arff"
   ]
  },
  {
   "cell_type": "code",
   "execution_count": 2,
   "id": "a89f906d",
   "metadata": {},
   "outputs": [],
   "source": []
  },
  {
   "cell_type": "code",
   "execution_count": null,
   "id": "9a371574",
   "metadata": {},
   "outputs": [],
   "source": []
  }
 ],
 "metadata": {
  "kernelspec": {
   "display_name": "conda_python3",
   "language": "python",
   "name": "conda_python3"
  },
  "language_info": {
   "codemirror_mode": {
    "name": "ipython",
    "version": 3
   },
   "file_extension": ".py",
   "mimetype": "text/x-python",
   "name": "python",
   "nbconvert_exporter": "python",
   "pygments_lexer": "ipython3",
   "version": "3.10.14"
  }
 },
 "nbformat": 4,
 "nbformat_minor": 5
}
